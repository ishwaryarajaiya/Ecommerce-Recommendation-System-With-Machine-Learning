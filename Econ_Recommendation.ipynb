{
 "cells": [
  {
   "cell_type": "code",
   "execution_count": 6,
   "id": "6e444c07",
   "metadata": {},
   "outputs": [
    {
     "name": "stdout",
     "output_type": "stream",
     "text": [
      "Collecting package metadata (current_repodata.json): ...working... done\n",
      "Solving environment: ...working... failed with initial frozen solve. Retrying with flexible solve.\n",
      "Solving environment: ...working... failed with repodata from current_repodata.json, will retry with next repodata source.\n",
      "Collecting package metadata (repodata.json): ...working... done\n",
      "Solving environment: ...working... done\n",
      "\n",
      "## Package Plan ##\n",
      "\n",
      "  environment location: C:\\Users\\HP\\anaconda3\n",
      "\n",
      "  added / updated specs:\n",
      "    - scikit-surprise\n",
      "\n",
      "\n",
      "The following packages will be downloaded:\n",
      "\n",
      "Note: you may need to restart the kernel to use updated packages.\n",
      "    package                    |            build\n",
      "    ---------------------------|-----------------\n",
      "\n"
     ]
    },
    {
     "name": "stderr",
     "output_type": "stream",
     "text": [
      "\n",
      "\n",
      "==> WARNING: A newer version of conda exists. <==\n",
      "  current version: 4.12.0\n"
     ]
    },
    {
     "name": "stdout",
     "output_type": "stream",
     "text": [
      "    conda-4.12.0               |   py39hcbf5309_0         1.0 MB  conda-forge\n",
      "    python_abi-3.9             |           2_cp39           4 KB  conda-forge\n",
      "    scikit-surprise-1.1.1      |   py39h5d4886f_2         538 KB  conda-forge\n",
      "    ------------------------------------------------------------\n",
      "                                           Total:         1.5 MB\n",
      "\n",
      "The following NEW packages will be INSTALLED:\n",
      "\n",
      "  python_abi         conda-forge/win-64::python_abi-3.9-2_cp39\n",
      "  scikit-surprise    conda-forge/win-64::scikit-surprise-1.1.1-py39h5d4886f_2\n",
      "\n",
      "The following packages will be SUPERSEDED by a higher-priority channel:\n",
      "\n",
      "  conda              pkgs/main::conda-4.12.0-py39haa95532_0 --> conda-forge::conda-4.12.0-py39hcbf5309_0\n",
      "\n",
      "\n",
      "\n",
      "Downloading and Extracting Packages\n",
      "\n",
      "conda-4.12.0         | 1.0 MB    |            |   0% \n",
      "conda-4.12.0         | 1.0 MB    | 1          |   2% \n",
      "conda-4.12.0         | 1.0 MB    | 3          |   3% \n",
      "conda-4.12.0         | 1.0 MB    | 6          |   6% \n",
      "conda-4.12.0         | 1.0 MB    | 7          |   8% \n",
      "conda-4.12.0         | 1.0 MB    | #          |  11% \n",
      "conda-4.12.0         | 1.0 MB    | #3         |  14% \n",
      "conda-4.12.0         | 1.0 MB    | #6         |  17% \n",
      "conda-4.12.0         | 1.0 MB    | #8         |  18% \n",
      "conda-4.12.0         | 1.0 MB    | ###3       |  34% \n",
      "conda-4.12.0         | 1.0 MB    | ###6       |  37% \n",
      "conda-4.12.0         | 1.0 MB    | ####       |  40% \n",
      "conda-4.12.0         | 1.0 MB    | ######3    |  63% \n",
      "conda-4.12.0         | 1.0 MB    | #######8   |  79% \n",
      "conda-4.12.0         | 1.0 MB    | #########7 |  97% \n",
      "conda-4.12.0         | 1.0 MB    | ########## | 100% \n",
      "\n",
      "scikit-surprise-1.1. | 538 KB    |            |   0% \n",
      "scikit-surprise-1.1. | 538 KB    | 2          |   3% \n"
     ]
    },
    {
     "name": "stderr",
     "output_type": "stream",
     "text": [
      "  latest version: 22.11.0\n",
      "\n",
      "Please update conda by running\n",
      "\n",
      "    $ conda update -n base -c defaults conda\n",
      "\n",
      "\n"
     ]
    },
    {
     "name": "stdout",
     "output_type": "stream",
     "text": [
      "scikit-surprise-1.1. | 538 KB    | 8          |   9% \n",
      "scikit-surprise-1.1. | 538 KB    | #1         |  12% \n",
      "scikit-surprise-1.1. | 538 KB    | #4         |  15% \n",
      "scikit-surprise-1.1. | 538 KB    | #7         |  18% \n",
      "scikit-surprise-1.1. | 538 KB    | ##3        |  24% \n",
      "scikit-surprise-1.1. | 538 KB    | ####1      |  42% \n",
      "scikit-surprise-1.1. | 538 KB    | #####9     |  60% \n",
      "scikit-surprise-1.1. | 538 KB    | ########   |  80% \n",
      "scikit-surprise-1.1. | 538 KB    | ########## | 100% \n",
      "scikit-surprise-1.1. | 538 KB    | ########## | 100% \n",
      "\n",
      "python_abi-3.9       | 4 KB      |            |   0% \n",
      "python_abi-3.9       | 4 KB      | ########## | 100% \n",
      "python_abi-3.9       | 4 KB      | ########## | 100% \n",
      "Preparing transaction: ...working... done\n",
      "Verifying transaction: ...working... done\n",
      "Executing transaction: ...working... done\n"
     ]
    }
   ],
   "source": [
    "conda install -c conda-forge scikit-surprise"
   ]
  },
  {
   "cell_type": "code",
   "execution_count": null,
   "id": "0aecdf29",
   "metadata": {},
   "outputs": [],
   "source": [
    "conda update --all"
   ]
  },
  {
   "cell_type": "code",
   "execution_count": 7,
   "id": "7d95a996",
   "metadata": {},
   "outputs": [],
   "source": [
    "\n",
    "\n",
    "\n",
    "\n",
    "from sklearn import model_selection\n",
    "from sklearn.metrics import confusion_matrix, precision_score, recall_score, f1_score, mean_squared_error, mean_absolute_error\n",
    "from sklearn.metrics.pairwise import cosine_similarity, euclidean_distances\n",
    "from sklearn.feature_extraction.text import TfidfVectorizer\n",
    "from sklearn.preprocessing import MinMaxScaler\n",
    "\n",
    "from surprise.model_selection import cross_validate\n",
    "from surprise import Dataset, Reader, accuracy, KNNBasic, SVD, NMF, SlopeOne, CoClustering, BaselineOnly\n",
    "\n",
    "import seaborn as sns\n",
    "import matplotlib.pyplot as plt\n",
    "import pandas as pd\n",
    "import numpy as np\n",
    "\n",
    "\n",
    "import warnings\n",
    "warnings.filterwarnings(\"ignore\")\n",
    "\n",
    "%matplotlib inline\n",
    "\n",
    "pd.set_option('display.max_rows', 1000)\n",
    "\n"
   ]
  },
  {
   "cell_type": "code",
   "execution_count": null,
   "id": "79620457",
   "metadata": {},
   "outputs": [],
   "source": [
    "econ = pd.read_csv('ecommercedata.csv')"
   ]
  },
  {
   "cell_type": "code",
   "execution_count": null,
   "id": "6fc339f1",
   "metadata": {},
   "outputs": [],
   "source": [
    "econ = econ.drop('Unnamed: 0',axis=1)"
   ]
  },
  {
   "cell_type": "code",
   "execution_count": null,
   "id": "f8cee63c",
   "metadata": {},
   "outputs": [],
   "source": [
    "econ['date'] = econ['event_time'].apply(lambda x: x.split()[0])\n",
    "econ['date']=pd.to_datetime(econ['date'],format='%Y-%m-%d')\n",
    "econ = econ[econ['date']<pd.Timestamp('2019-10-6 00:00:00')]\n",
    "econ.to_csv('initialdf.csv')\n",
    "econ"
   ]
  },
  {
   "cell_type": "code",
   "execution_count": null,
   "id": "ab98541a",
   "metadata": {},
   "outputs": [],
   "source": [
    "econ['user_score'] = econ['event_type'].map({'view':1,'cart':10,'purchase':50})\n",
    "econ['user_purchase'] = econ['event_type'].apply(lambda x: 1 if x=='purchase' else 0)\n",
    "econ['price_category'] = 0\n",
    "for i in econ['category_code'].unique():\n",
    "    econ.loc[econ['category_code']==i,'price_category'] = pd.qcut(x=econ['price'][econ['category_code']==i],q=5,labels=[1,2,3,4,5])\n",
    "econ   "
   ]
  },
  {
   "cell_type": "code",
   "execution_count": null,
   "id": "a3902604",
   "metadata": {},
   "outputs": [],
   "source": [
    "econ.to_csv('initialdf1.csv')"
   ]
  },
  {
   "cell_type": "code",
   "execution_count": null,
   "id": "13c47c3a",
   "metadata": {},
   "outputs": [],
   "source": [
    "for i in econ['category_code'].unique():\n",
    "    econ.loc[econ['category_code']==i,'price_category'] = pd.qcut(x=econ['price'][econ['category_code']==i],q=5,labels=[1,2,3,4,5])"
   ]
  },
  {
   "cell_type": "code",
   "execution_count": null,
   "id": "fa00c5ad",
   "metadata": {},
   "outputs": [],
   "source": [
    "groups = econ.groupby(['user_id','product_id'])['user_score','user_purchase'].sum().reset_index()\n",
    "groups['user_purchase'] = groups['user_purchase'].apply(lambda x: 1 if x>1 else x)\n",
    "groups['user_score'] = groups['user_score'].apply(lambda x: 100 if x>100 else x)"
   ]
  },
  {
   "cell_type": "code",
   "execution_count": null,
   "id": "b761805e",
   "metadata": {},
   "outputs": [],
   "source": [
    "std = MinMaxScaler(feature_range=(0.025, 1))\n",
    "std.fit(group['user_score'].values.reshape(-1,1))\n",
    "group['interaction_score'] = std.transform(group['user_score'].values.reshape(-1,1))"
   ]
  },
  {
   "cell_type": "code",
   "execution_count": null,
   "id": "8aab2be1",
   "metadata": {},
   "outputs": [],
   "source": [
    "groups = groups.merge(df[['product_id','category_code','brand','price','price_category']].drop_duplicates('product_id'),on=['product_id'])"
   ]
  },
  {
   "cell_type": "code",
   "execution_count": null,
   "id": "6711f43f",
   "metadata": {},
   "outputs": [],
   "source": [
    "X1_train, X1_valid = model_selection.train_test_split(X_train_val,test_size=0.16, random_state=42)"
   ]
  },
  {
   "cell_type": "code",
   "execution_count": null,
   "id": "9aded874",
   "metadata": {},
   "outputs": [],
   "source": [
    "X1_train_val, X1_test = model_selection.train_test_split(groups,test_size=0.2, random_state=42)"
   ]
  },
  {
   "cell_type": "code",
   "execution_count": null,
   "id": "9f79b9d3",
   "metadata": {},
   "outputs": [],
   "source": [
    "X_valid2 = X_valid.copy()\n",
    "X_valid3 = X_valid.copy()\n",
    "X_train_val2 = X_train_val.copy()"
   ]
  },
  {
   "cell_type": "code",
   "execution_count": null,
   "id": "ef9e7841",
   "metadata": {},
   "outputs": [],
   "source": [
    "products_cat = X1_train[['product_id','price_category','category_code']].drop_duplicates('product_id')\n",
    "products_cat = products_cat.sort_values(by='product_id')\n",
    "products_cat"
   ]
  },
  {
   "cell_type": "code",
   "execution_count": null,
   "id": "b88049c4",
   "metadata": {},
   "outputs": [],
   "source": [
    "products_cat_matrix = np.reciprocal(euclidean_distances(np.array(product_cat['price_category']).reshape(-1,1))+1)"
   ]
  },
  {
   "cell_type": "code",
   "execution_count": null,
   "id": "5723dc41",
   "metadata": {},
   "outputs": [],
   "source": [
    "euclideann_matrix = pd.DataFrame(product_cat_matrix,columns=product_cat['product_id'],index=product_cat['product_id'])"
   ]
  },
  {
   "cell_type": "code",
   "execution_count": null,
   "id": "34f092ef",
   "metadata": {},
   "outputs": [],
   "source": [
    "tfidf_vectorizerr = TfidfVectorizer()\n",
    "doc_terms = tfidf_vectorizerr.fit_transform(list(products_cat['category_code']))\n",
    "dt_matrixes = pd.DataFrame(doc_terms.toarray().round(3), index=[i for i in products_cat['product_id']], columns=tfidf_vectorizerr.get_feature_names())"
   ]
  },
  {
   "cell_type": "code",
   "execution_count": null,
   "id": "aa735293",
   "metadata": {},
   "outputs": [],
   "source": [
    "cos_similar_matrixx = pd.DataFrame(cosine_similarity(dt_matrix.values),columns=products_cat['product_id'],index=products_cat['product_id'])"
   ]
  },
  {
   "cell_type": "code",
   "execution_count": null,
   "id": "2c0c5c15",
   "metadata": {},
   "outputs": [],
   "source": [
    "similar_matrixx = cos_similar_matrixx.multiply(euclideann_matrix)"
   ]
  },
  {
   "cell_type": "code",
   "execution_count": null,
   "id": "6cfb92ec",
   "metadata": {},
   "outputs": [],
   "source": [
    "X1_train_matrix = pd.pivot_table(X1_train,values='user_score',index='user_id',columns='product_id')\n",
    "X1_train_matrix = X1_train_matrix.fillna(0)"
   ]
  },
  {
   "cell_type": "code",
   "execution_count": null,
   "id": "66003fe8",
   "metadata": {},
   "outputs": [],
   "source": [
    "content_matrixx = X1_train_matrix.dot(similar_matrixx)\n",
    "std = MinMaxScaler(feature_range=(0, 1))\n",
    "std.fit(content_matrixx.values)\n",
    "content_matrixx = std.transform(content_matrixx.values)\n",
    "content_matrixx = pd.DataFrame(content_matrixx,columns=sorted(X1_train['product_id'].unique()),index=sorted(X1_train['user_id'].unique()))\n",
    "contents_df = content_matrix.stack().reset_index()\n",
    "contents_df = content_df.rename(columns={'level_0':'user_id','level_1':'product_id',0:'predicted_interaction'})\n",
    "X1_valid = X1_valid.merge(contents_df,on=['user_id','product_id'])"
   ]
  },
  {
   "cell_type": "code",
   "execution_count": null,
   "id": "e186877b",
   "metadata": {},
   "outputs": [],
   "source": [
    "X1_valid['predicted_purchase'] = X1_valid['predicted_interaction'].apply(lambda x:1 if x>=0.5 else 0)"
   ]
  },
  {
   "cell_type": "code",
   "execution_count": null,
   "id": "571fd9b5",
   "metadata": {},
   "outputs": [],
   "source": [
    "items_price_precision = precision_score(X_valid['user_purchase'],X1_valid['predicted_purchase'])\n",
    "items_price_precision"
   ]
  },
  {
   "cell_type": "code",
   "execution_count": null,
   "id": "b55db1b3",
   "metadata": {},
   "outputs": [],
   "source": [
    "items_price_recall = recall_score(X1_valid['user_purchase'],X1_valid['predicted_purchase'])\n",
    "items_price_recall"
   ]
  },
  {
   "cell_type": "code",
   "execution_count": null,
   "id": "a4a51ec8",
   "metadata": {},
   "outputs": [],
   "source": [
    "items_price_f1 = f1_score(X1_valid['user_purchase'],X1_valid['predicted_purchase'])\n",
    "items_price_f1 "
   ]
  },
  {
   "cell_type": "code",
   "execution_count": null,
   "id": "9ea8b498",
   "metadata": {},
   "outputs": [],
   "source": [
    "content_matrixx = X1_train_matrix.dot(cos_similar_matrixx)\n",
    "std = MinMaxScaler(feature_range=(0, 1))\n",
    "std.fit(content_matrixx.values)\n",
    "content_matrixx = std.transform(content_matrixx.values)\n",
    "content_matrixx = pd.DataFrame(content_matrixx,columns=sorted(X1_train['product_id'].unique()),index=sorted(X1_train['user_id'].unique()))\n",
    "contents_df = content_matrixx.stack().reset_index()\n",
    "contents_df = contents_df.rename(columns={'level_0':'user_id','level_1':'product_id',0:'predicted_interaction'})\n",
    "X1_valid1 = X1_valid1.merge(contents_df,on=['user_id','product_id'])"
   ]
  },
  {
   "cell_type": "code",
   "execution_count": null,
   "id": "f59ffc3a",
   "metadata": {},
   "outputs": [],
   "source": [
    "X1_valid1['predicted_purchase'] = X1_valid1['predicted_interaction'].apply(lambda x:1 if x>=0.5 else 0)"
   ]
  },
  {
   "cell_type": "code",
   "execution_count": null,
   "id": "289e0dfd",
   "metadata": {},
   "outputs": [],
   "source": [
    "items_precision = precision_score(X_valid1['user_purchase'],X1_valid1['predicted_purchase'])\n",
    "items_precision"
   ]
  },
  {
   "cell_type": "code",
   "execution_count": null,
   "id": "b7a0ba10",
   "metadata": {},
   "outputs": [],
   "source": [
    "items_recall = recall_score(X1_valid1['user_purchase'],X1_valid1['predicted_purchase'])\n",
    "items_recall"
   ]
  },
  {
   "cell_type": "code",
   "execution_count": null,
   "id": "9a848509",
   "metadata": {},
   "outputs": [],
   "source": [
    "items_f1 = f1_score(X1_valid1['user_purchase'],X1_valid1['predicted_purchase'])\n",
    "items_f1"
   ]
  },
  {
   "cell_type": "code",
   "execution_count": null,
   "id": "b3294ce7",
   "metadata": {},
   "outputs": [],
   "source": [
    "products_cat = X1_train[['product_id','price_category','category_code','brand']].drop_duplicates('product_id')\n",
    "products_cat = products_cat.sort_values(by='product_id')\n",
    "products_cat"
   ]
  },
  {
   "cell_type": "code",
   "execution_count": null,
   "id": "23a24917",
   "metadata": {},
   "outputs": [],
   "source": [
    "tfidf_vectorizerr = TfidfVectorizer()\n",
    "docs_term = tfidf_vectorizerr.fit_transform(list(products_cat['brand']))\n",
    "dtt_matrix1 = pd.DataFrame(docs_term.toarray().round(3), index=[i for i in products_cat['product_id']], columns=tfidf_vectorizerr.get_feature_names())\n",
    "dtt_matrix1 = dtt_matrix1 + 0.01"
   ]
  },
  {
   "cell_type": "code",
   "execution_count": null,
   "id": "55be4a87",
   "metadata": {},
   "outputs": [],
   "source": [
    "cos_similar_matrixx1 = pd.DataFrame(cosine_similarity(dtt_matrix1.values),columns=products_cat['product_id'],index=products_cat['product_id'])"
   ]
  },
  {
   "cell_type": "code",
   "execution_count": null,
   "id": "cb5b951a",
   "metadata": {},
   "outputs": [],
   "source": [
    "similar_matrixx = cos_similar_matrixx.multiply(euclidean_matrix).multiply(cos_similar_matrixx1)"
   ]
  },
  {
   "cell_type": "code",
   "execution_count": null,
   "id": "28db02b1",
   "metadata": {},
   "outputs": [],
   "source": [
    "X1_train_matrix = pd.pivot_table(X1_train,values='user_score',index='user_id',columns='product_id')\n",
    "X1_train_matrix = X1_train_matrix.fillna(0)\n",
    "content_matrixx = X1_train_matrix.dot(similar_matrixx)\n",
    "std = MinMaxScaler(feature_range=(0, 1))\n",
    "std.fit(content_matrixx.values)\n",
    "content_matrixx = std.transform(content_matrixx.values)\n",
    "content_matrixx = pd.DataFrame(content_matrixx,columns=sorted(X1_train['product_id'].unique()),index=sorted(X1_train['user_id'].unique()))\n",
    "contents_df = content_matrixx.stack().reset_index()\n",
    "contents_df = contents_df.rename(columns={'level_0':'user_id','level_1':'product_id',0:'predicted_interaction'})\n",
    "X1_valid2 = X1_valid2.merge(content_df,on=['user_id','product_id'])"
   ]
  },
  {
   "cell_type": "code",
   "execution_count": null,
   "id": "215cdd4e",
   "metadata": {},
   "outputs": [],
   "source": [
    "X1_valid2['predicted_purchase'] = X1_valid2['predicted_interaction'].apply(lambda x:1 if x>=0.5 else 0)"
   ]
  },
  {
   "cell_type": "code",
   "execution_count": null,
   "id": "9a3563a1",
   "metadata": {},
   "outputs": [],
   "source": [
    "items_price_brand_precision = precision_score(X1_valid2['user_purchase'],X1_valid2['predicted_purchase'])\n",
    "items_price_brand_precision"
   ]
  },
  {
   "cell_type": "code",
   "execution_count": null,
   "id": "001d22f4",
   "metadata": {},
   "outputs": [],
   "source": [
    "items_price_brand_recall = recall_score(X1_valid2['user_purchase'],X1_valid2['predicted_purchase'])\n",
    "items_price_brand_recall"
   ]
  },
  {
   "cell_type": "code",
   "execution_count": null,
   "id": "00eedd9d",
   "metadata": {},
   "outputs": [],
   "source": [
    "items_price_brand_f1 = f1_score(X1_valid2['user_purchase'],X1_valid2['predicted_purchase'])\n",
    "items_price_brand_f1"
   ]
  },
  {
   "cell_type": "code",
   "execution_count": null,
   "id": "1685a165",
   "metadata": {},
   "outputs": [],
   "source": [
    "products_cat = X_train_val1[['product_id','price_category','category_code','brand']].drop_duplicates('product_id')\n",
    "products_cat = products_cat.sort_values(by='product_id')\n",
    "products_cat_matrix = np.reciprocal(euclideann_distances(np.array(products_cat['price_category']).reshape(-1,1))+1)\n",
    "euclideann_matrix = pd.DataFrame(products_cat_matrix,columns=products_cat['product_id'],index=products_cat['product_id'])\n",
    "\n",
    "tfidf_vectorizerr = TfidfVectorizer()\n",
    "docs_term = tfidf_vectorizer.fit_transform(list(product_cat['category_code']))\n",
    "dtt_matrix = pd.DataFrame(doc_term.toarray().round(3), index=[i for i in product_cat['product_id']], columns=tfidf_vectorizer.get_feature_names())\n",
    "cos_similar_matrixx = pd.DataFrame(cosine_similarity(dtt_matrix.values),columns=products_cat['product_id'],index=products_cat['product_id'])\n",
    "\n",
    "tfidf_vectorizerr = TfidfVectorizer()\n",
    "docs_term = tfidf_vectorizerr.fit_transform(list(products_cat['brand']))\n",
    "dtt_matrix1 = pd.DataFrame(docs_term.toarray().round(3), index=[i for i in products_cat['product_id']], columns=tfidf_vectorizerr.get_feature_names())\n",
    "dtt_matrix1 = dt_matrix1 + 0.01\n",
    "cos_similar_matrixx1 = pd.DataFrame(cosine_similarity(dtt_matrix1.values),columns=products_cat['product_id'],index=products_cat['product_id'])\n",
    "\n",
    "similar_matrixx = cos_similar_matrixx.multiply(euclideann_matrix).multiply(cos_similar_matrixx1)\n",
    "X1_train_val_matrix = pd.pivot_table(X1_train_val1,values='user_score',index='user_id',columns='product_id')\n",
    "X1_train_val_matrix = X1_train_val_matrix.fillna(0)"
   ]
  },
  {
   "cell_type": "code",
   "execution_count": null,
   "id": "186dd1ba",
   "metadata": {},
   "outputs": [],
   "source": [
    "content_matrixx = X1_train_val_matrix.dot(similar_matrixx)\n",
    "std = MinMaxScaler(feature_range=(0, 1))\n",
    "std.fit(content_matrix.values)\n",
    "content_matrixx = std.transform(content_matrixx.values)\n",
    "content_matrixx = pd.DataFrame(content_matrixx,columns=sorted(X1_train_val1['product_id'].unique()),index=sorted(X1_train_val1['user_id'].unique()))\n",
    "contents_df = content_matrixx.stack().reset_index()\n",
    "contents_df = contents_df.rename(columns={'level_0':'user_id','level_1':'product_id',0:'predicted_interaction'})\n",
    "X1_test = X1_test.merge(contents_df,on=['user_id','product_id'])\n",
    "X1_test['predicted_purchase'] = X1_test['predicted_interaction'].apply(lambda x:1 if x>=0.5 else 0)"
   ]
  },
  {
   "cell_type": "code",
   "execution_count": null,
   "id": "a870ae70",
   "metadata": {},
   "outputs": [],
   "source": [
    "model_precision = model_precision_score(X1_test['user_purchase'],X1_test['predicted_purchase'])\n",
    "model_precision"
   ]
  },
  {
   "cell_type": "code",
   "execution_count": null,
   "id": "42aa6d64",
   "metadata": {},
   "outputs": [],
   "source": [
    "model_recall = model_recall_score(X1_test['user_purchase'],X1_test['predicted_purchase'])\n",
    "model_recall"
   ]
  },
  {
   "cell_type": "code",
   "execution_count": null,
   "id": "4d986ec6",
   "metadata": {},
   "outputs": [],
   "source": [
    "f2 = f2_score(X1_test['user_purchase'],X1_test['predicted_purchase'])\n",
    "f2"
   ]
  },
  {
   "cell_type": "code",
   "execution_count": null,
   "id": "5a910f04",
   "metadata": {},
   "outputs": [],
   "source": [
    "X1_test.sort_values(by='interaction_score',ascending=False).head(1000)"
   ]
  },
  {
   "cell_type": "code",
   "execution_count": null,
   "id": "fd2dfa1d",
   "metadata": {},
   "outputs": [],
   "source": [
    "sampleusers_trainval = X1_train_val[X1_train_val['user_id']==518044530]\n",
    "sampleusers_trainval.to_csv('sampleuser_trainval.csv')\n",
    "sampleusers_trainval"
   ]
  },
  {
   "cell_type": "code",
   "execution_count": null,
   "id": "27f6710d",
   "metadata": {},
   "outputs": [],
   "source": [
    "sampleusers_test = X1_test[X1_test['user_id']==518044530]\n",
    "sampleusers_test.to_csv('sampleuser_test.csv')\n",
    "sampleusers_test"
   ]
  },
  {
   "cell_type": "code",
   "execution_count": null,
   "id": "6fb50d74",
   "metadata": {},
   "outputs": [],
   "source": [
    "samples = contents_df[contents_df['user_id']==518044530].sort_values(by='predicted_interaction',ascending=False).merge(groups[['product_id','category_code','brand','price','price_category']].drop_duplicates('product_id'),on='product_id')\n",
    "samples"
   ]
  },
  {
   "cell_type": "code",
   "execution_count": null,
   "id": "5450fdea",
   "metadata": {},
   "outputs": [],
   "source": [
    "sampleusers_recommend = samples[samples['predicted_interaction']>=0.5].samples(10,random_state=0)\n",
    "sampleusers_recommend.to_csv('sampleuser_recommend.csv')\n",
    "sampleusers_recommend"
   ]
  },
  {
   "cell_type": "code",
   "execution_count": null,
   "id": "467352f5",
   "metadata": {},
   "outputs": [],
   "source": [
    "econ_model = ['Item-Based','Item/Price-Based','Item/Price/Brand-Based']\n",
    "econ_scoring = ['f2','model_precision','model_recall']\n",
    "econ_model_name = ['item','item_price','item_price_brand']\n",
    "econ_model_list = []\n",
    "\n",
    "for i in econ_model:\n",
    "    for j in econ_scoring:\n",
    "        econ_model_dic = {'Model': i,'Scoring':j, 'Score':eval('{0}_{1}'.format(econ_model_name[econ_model.index(i)],j))}\n",
    "        econ_model_list.append(econ_model_dic)"
   ]
  },
  {
   "cell_type": "code",
   "execution_count": null,
   "id": "d8e0c1ea",
   "metadata": {},
   "outputs": [],
   "source": [
    "econ_model_df = pd.DataFrame(econ_model_list)\n",
    "econ_model_df"
   ]
  },
  {
   "cell_type": "code",
   "execution_count": null,
   "id": "09ffbde3",
   "metadata": {},
   "outputs": [],
   "source": [
    "sns.set(style='white',font_scale=1.2)\n",
    "fig = plt.figure(figsize=[12,9])\n",
    "ax = sns.barplot(x='Econ_Model',y='Econ_Score',data=model_df,hue='Econ_Scoring',palette='Econ_Blues')\n",
    "for p in ax.patches:\n",
    "        ax.annotate(str((p.get_height()*100).round(1))+'%', (p.get_x()+0.06, p.get_height()+0.0005))\n",
    "plt.ylim([0.03,0.08])      \n",
    "plt.xlabel('',weight='bold',fontsize='15')\n",
    "plt.ylabel('Score',weight='bold',fontsize='18')\n",
    "plt.title('Performance of SV Across Content-Based Models',weight='bold',fontsize=17)\n",
    "sns.despine()\n",
    "plt.savefig('barplot.png',transparent=True, bbox_inches='tight')"
   ]
  },
  {
   "cell_type": "code",
   "execution_count": null,
   "id": "a07c0810",
   "metadata": {},
   "outputs": [],
   "source": [
    "user_groups = groups.groupby('user_id')['user_purchase'].sum()\n",
    "user_groups = pd.DataFrame(user_groups)\n",
    "user_groups.sort_values(by='user_purchase')"
   ]
  },
  {
   "cell_type": "code",
   "execution_count": null,
   "id": "d4116027",
   "metadata": {},
   "outputs": [],
   "source": [
    "fig1 = plt.figure(figsize=[12,8])\n",
    "ax1 = sns.distplot(user_group,bins=np.arange(22)-0.5,kde=False)\n",
    "plt.yscale('log')\n",
    "plt.xticks(range(0,21,1))\n",
    "plt.ylabel('No. of Customers (Log Scale)',fontsize=17, weight='bold')\n",
    "plt.xlabel('Total Unique Purchases', fontsize=17, weight='bold')\n",
    "plt.title('Histogram of Purchases across Customers',weight='bold',fontsize=20)\n",
    "sns.despine()\n",
    "plt.savefig('hisplot.png',transparent=True, bbox_inches='tight')"
   ]
  },
  {
   "cell_type": "code",
   "execution_count": null,
   "id": "80c4bc76",
   "metadata": {},
   "outputs": [],
   "source": [
    "fig = plt.figure(figsize=[7,8])\n",
    "ax = sns.countplot(econ.drop_duplicates(subset=['user_id','product_id','event_type'])['event_type'])\n",
    "plt.yscale('log')\n",
    "for p in ax.patches:\n",
    "        ax.annotate(p.get_height().round(3), (p.get_x()+0.25, p.get_height()+100))\n",
    "plt.xticks(ticks=[0,1,2],labels=['Unique Views','Unique Carts','Unique Purchases'])        \n",
    "plt.xlabel('')   \n",
    "plt.ylabel('Count (Log Scale)')\n",
    "plt.title('Unique Customer Interactions',weight='bold',fontsize=16)\n",
    "sns.despine()\n",
    "plt.savefig('countplot.png',transparent=True, bbox_inches='tight')"
   ]
  },
  {
   "cell_type": "code",
   "execution_count": null,
   "id": "645282b7",
   "metadata": {},
   "outputs": [],
   "source": [
    "users_purchase = []\n",
    "for i in range(1,6):\n",
    "    X_sub = X1_test[X1_test['user_id'].isin(list(X1_test.groupby('user_id')['user_purchase'].sum().reset_index()[X1_test.groupby('user_id')['user_purchase'].sum().reset_index()['user_purchase']==i]['user_id']))]\n",
    "    model_recall = model_recall_score(X1_sub['user_purchase'],X1_sub['predicted_purchase'])\n",
    "    model_precision = model_precision_score(X1_sub['user_purchase'],X1_sub['predicted_purchase'])\n",
    "    users_purchase.append({'No. of Purchase':i,'Recall':model_recall,'Precision':model_precision})"
   ]
  },
  {
   "cell_type": "code",
   "execution_count": null,
   "id": "9f8afb9d",
   "metadata": {},
   "outputs": [],
   "source": [
    "users_purchase = pd.DataFrame(users_purchase)\n",
    "users_purchase2 = users_purchase.stack().reset_index().rename(columns={'level_0':'No. of Purchase','level_1':'Metric', 0:'Score'})[users_purchase.stack().reset_index().rename(columns={'level_0':'No. of Purchase','level_1':'Metric', 0:'Score'})['Metric']!='No. of Purchase']\n",
    "users_purchase2['No. of Purchase'] = users_purchase2['No. of Purchase'].apply(lambda x:x+1)\n",
    "users_purchase2"
   ]
  },
  {
   "cell_type": "code",
   "execution_count": null,
   "id": "59f60313",
   "metadata": {},
   "outputs": [],
   "source": [
    "users_purchase.stack().reset_index()"
   ]
  },
  {
   "cell_type": "code",
   "execution_count": null,
   "id": "2eaf2271",
   "metadata": {},
   "outputs": [],
   "source": [
    "user_groups = X1_test.groupby('user_id')['user_purchase'].sum()\n",
    "user_groups = pd.DataFrame(user_groups)\n",
    "user_groups.sort_values(by='user_purchase')"
   ]
  },
  {
   "cell_type": "code",
   "execution_count": null,
   "id": "17375eec",
   "metadata": {},
   "outputs": [],
   "source": [
    "fig1 = plt.figure(figsize=[10,8])\n",
    "ax1 = sns.distplot(user_group,bins=np.arange(7)-0.5,kde=False)\n",
    "plt.yscale('log')\n",
    "plt.xticks(range(0,6,1))\n",
    "plt.ylabel('No. of Customers (Log Scale)',fontsize=17, weight='bold')\n",
    "plt.xlabel('Total Unique Purchases', fontsize=17, weight='bold')\n",
    "ax2 = plt.twinx()\n",
    "sns.lineplot(x='No. of Purchase',y='Score',data=user_purchase2, hue='Metric',ax=ax2,marker='o',sort=False,palette='magma')\n",
    "plt.ylim([0,1.1])\n",
    "plt.ylabel('Recall/Precision Score',fontsize=17,weight='bold') \n",
    "plt.title('Purchases and Recall/Precision of Test Set',weight='bold',fontsize=20)\n",
    "plt.savefig('mixplot.png',transparent=True, bbox_inches='tight')"
   ]
  },
  {
   "cell_type": "code",
   "execution_count": null,
   "id": "049e36ea",
   "metadata": {},
   "outputs": [],
   "source": [
    "from matplotlib.colors import LogNorm\n",
    "satisfaction_confusion = confusion_matrix(X1_test['user_purchase'], X1_test['predicted_purchase'])\n",
    "plt.figure(dpi=120)\n",
    "ax = sns.heatmap(satisfaction_confusion, cmap=plt.cm.Blues, annot=True, square=True, fmt='d',norm=LogNorm(),\n",
    "xticklabels=['Did Not Purchase', 'Purchase'],\n",
    "yticklabels=['Did Not Purchase', 'Purchase']);   \n",
    "plt.xlabel('Prediction',weight='bold',fontsize=12)\n",
    "plt.ylabel('Actual',weight='bold',fontsize=12)\n",
    "plt.title('Confusion Matrix',weight='bold',fontsize=15)\n",
    "plt.savefig('confusionmatrix.png',transparent=True, bbox_inches='tight')"
   ]
  },
  {
   "cell_type": "code",
   "execution_count": null,
   "id": "4172ea47",
   "metadata": {},
   "outputs": [],
   "source": [
    "group.to_csv('groupdf.csv')"
   ]
  }
 ],
 "metadata": {
  "kernelspec": {
   "display_name": "Python 3 (ipykernel)",
   "language": "python",
   "name": "python3"
  },
  "language_info": {
   "codemirror_mode": {
    "name": "ipython",
    "version": 3
   },
   "file_extension": ".py",
   "mimetype": "text/x-python",
   "name": "python",
   "nbconvert_exporter": "python",
   "pygments_lexer": "ipython3",
   "version": "3.9.15"
  }
 },
 "nbformat": 4,
 "nbformat_minor": 5
}
